{
 "cells": [
  {
   "cell_type": "markdown",
   "metadata": {},
   "source": [
    "This crashed when I tried it in a py-file, which is why it's here"
   ]
  },
  {
   "cell_type": "code",
   "execution_count": 5,
   "metadata": {},
   "outputs": [],
   "source": [
    "import pandas as pd\n",
    "import matplotlib.pyplot as plt\n"
   ]
  },
  {
   "cell_type": "code",
   "execution_count": 1,
   "metadata": {},
   "outputs": [
    {
     "data": {
      "text/plain": [
       "Index(['speech_id', 'protocol_id', 'speech_number', 'dates', 'name',\n",
       "       'person_id', 'speaker_id', 'riksdagen_id', 'party', 'district', 'role',\n",
       "       'gender', 'start_segment', 'end_segment', 'duration_segment', 'text',\n",
       "       'text_normalized', 'transcription_w2v', 'start_text_time',\n",
       "       'end_text_time', 'born', 'dead', 'bleu_score', 'overall_score',\n",
       "       'nr_speech_segments', 'start_segment_same', 'audio_file'],\n",
       "      dtype='object')"
      ]
     },
     "execution_count": 1,
     "metadata": {},
     "output_type": "execute_result"
    }
   ],
   "source": [
    "\n",
    "df = pd.read_parquet(\"/mnt/c/Users/User/thesis/rixvox-alignments.parquet\")\n",
    "head = df.head()\n",
    "\n",
    "head.columns\n"
   ]
  },
  {
   "cell_type": "code",
   "execution_count": null,
   "metadata": {},
   "outputs": [
    {
     "data": {
      "text/html": [
       "<div>\n",
       "<style scoped>\n",
       "    .dataframe tbody tr th:only-of-type {\n",
       "        vertical-align: middle;\n",
       "    }\n",
       "\n",
       "    .dataframe tbody tr th {\n",
       "        vertical-align: top;\n",
       "    }\n",
       "\n",
       "    .dataframe thead th {\n",
       "        text-align: right;\n",
       "    }\n",
       "</style>\n",
       "<table border=\"1\" class=\"dataframe\">\n",
       "  <thead>\n",
       "    <tr style=\"text-align: right;\">\n",
       "      <th></th>\n",
       "      <th>protocol_id</th>\n",
       "      <th>name</th>\n",
       "      <th>party</th>\n",
       "      <th>gender</th>\n",
       "      <th>start_segment</th>\n",
       "      <th>end_segment</th>\n",
       "      <th>text</th>\n",
       "    </tr>\n",
       "  </thead>\n",
       "  <tbody>\n",
       "    <tr>\n",
       "      <th>0</th>\n",
       "      <td>prot-1966--ak--25</td>\n",
       "      <td>Gunnar Sträng</td>\n",
       "      <td>Socialdemokraterna</td>\n",
       "      <td>man</td>\n",
       "      <td>858.565365</td>\n",
       "      <td>940.874363</td>\n",
       "      <td>Herr talman! Herr Nihlfors har frågat, om jag ...</td>\n",
       "    </tr>\n",
       "    <tr>\n",
       "      <th>1</th>\n",
       "      <td>prot-1966--ak--25</td>\n",
       "      <td>Folke Nihlfors</td>\n",
       "      <td>Folkpartiet</td>\n",
       "      <td>man</td>\n",
       "      <td>946.680815</td>\n",
       "      <td>1042.996604</td>\n",
       "      <td>Herr talman! Jag får tacka för det mycket posi...</td>\n",
       "    </tr>\n",
       "    <tr>\n",
       "      <th>2</th>\n",
       "      <td>prot-1966--ak--25</td>\n",
       "      <td>Manne Ståhl</td>\n",
       "      <td>Folkpartiet</td>\n",
       "      <td>man</td>\n",
       "      <td>1128.242784</td>\n",
       "      <td>1251.010187</td>\n",
       "      <td>Herr talman! Jag ber att få tacka för svaret s...</td>\n",
       "    </tr>\n",
       "    <tr>\n",
       "      <th>3</th>\n",
       "      <td>prot-1966--ak--25</td>\n",
       "      <td>Gunnar Lange</td>\n",
       "      <td>Socialdemokraterna</td>\n",
       "      <td>man</td>\n",
       "      <td>1262.232598</td>\n",
       "      <td>1304.694397</td>\n",
       "      <td>Herr talman! Herr Fridolfsson i Stockholm har ...</td>\n",
       "    </tr>\n",
       "    <tr>\n",
       "      <th>4</th>\n",
       "      <td>prot-1966--ak--25</td>\n",
       "      <td>Filip Fridolfsson</td>\n",
       "      <td>Moderaterna</td>\n",
       "      <td>man</td>\n",
       "      <td>1307.852292</td>\n",
       "      <td>1461.994907</td>\n",
       "      <td>Herr talman! Jag ber att få tacka handelsminis...</td>\n",
       "    </tr>\n",
       "    <tr>\n",
       "      <th>...</th>\n",
       "      <td>...</td>\n",
       "      <td>...</td>\n",
       "      <td>...</td>\n",
       "      <td>...</td>\n",
       "      <td>...</td>\n",
       "      <td>...</td>\n",
       "      <td>...</td>\n",
       "    </tr>\n",
       "    <tr>\n",
       "      <th>150</th>\n",
       "      <td>prot-1966--ak--25</td>\n",
       "      <td>Astrid Kristensson</td>\n",
       "      <td>Moderaterna, Högerpartiet</td>\n",
       "      <td>woman</td>\n",
       "      <td>7521.519525</td>\n",
       "      <td>7574.219015</td>\n",
       "      <td>Herr talman! Bara ett par ord med anledning av...</td>\n",
       "    </tr>\n",
       "    <tr>\n",
       "      <th>151</th>\n",
       "      <td>prot-1966--ak--25</td>\n",
       "      <td>Carl-Eric Hedin</td>\n",
       "      <td>Moderaterna</td>\n",
       "      <td>man</td>\n",
       "      <td>7600.738540</td>\n",
       "      <td>8071.332767</td>\n",
       "      <td>Herr talman! I motion II: 888, likalydande med...</td>\n",
       "    </tr>\n",
       "    <tr>\n",
       "      <th>152</th>\n",
       "      <td>prot-1966--ak--25</td>\n",
       "      <td>Sten Sjöholm</td>\n",
       "      <td>Liberalerna, Folkpartiet</td>\n",
       "      <td>man</td>\n",
       "      <td>8079.567063</td>\n",
       "      <td>8321.910017</td>\n",
       "      <td>Herr talman! Jag måste först säga några ord ti...</td>\n",
       "    </tr>\n",
       "    <tr>\n",
       "      <th>153</th>\n",
       "      <td>prot-1966--ak--25</td>\n",
       "      <td>Astrid Bergegren</td>\n",
       "      <td>Socialdemokraterna</td>\n",
       "      <td>woman</td>\n",
       "      <td>8336.680815</td>\n",
       "      <td>8765.764007</td>\n",
       "      <td>Herr talman! Jag skulle i likhet med fru Krist...</td>\n",
       "    </tr>\n",
       "    <tr>\n",
       "      <th>154</th>\n",
       "      <td>prot-1966--ak--25</td>\n",
       "      <td>Axel Gustafsson</td>\n",
       "      <td>Folkpartiet</td>\n",
       "      <td>man</td>\n",
       "      <td>8770.874363</td>\n",
       "      <td>9008.242784</td>\n",
       "      <td>Herr talman! Det kan kanske ha ett visst intre...</td>\n",
       "    </tr>\n",
       "  </tbody>\n",
       "</table>\n",
       "<p>153 rows × 7 columns</p>\n",
       "</div>"
      ],
      "text/plain": [
       "           protocol_id                name                      party gender  \\\n",
       "0    prot-1966--ak--25       Gunnar Sträng         Socialdemokraterna    man   \n",
       "1    prot-1966--ak--25      Folke Nihlfors                Folkpartiet    man   \n",
       "2    prot-1966--ak--25         Manne Ståhl                Folkpartiet    man   \n",
       "3    prot-1966--ak--25        Gunnar Lange         Socialdemokraterna    man   \n",
       "4    prot-1966--ak--25   Filip Fridolfsson                Moderaterna    man   \n",
       "..                 ...                 ...                        ...    ...   \n",
       "150  prot-1966--ak--25  Astrid Kristensson  Moderaterna, Högerpartiet  woman   \n",
       "151  prot-1966--ak--25     Carl-Eric Hedin                Moderaterna    man   \n",
       "152  prot-1966--ak--25        Sten Sjöholm   Liberalerna, Folkpartiet    man   \n",
       "153  prot-1966--ak--25    Astrid Bergegren         Socialdemokraterna  woman   \n",
       "154  prot-1966--ak--25     Axel Gustafsson                Folkpartiet    man   \n",
       "\n",
       "     start_segment  end_segment  \\\n",
       "0       858.565365   940.874363   \n",
       "1       946.680815  1042.996604   \n",
       "2      1128.242784  1251.010187   \n",
       "3      1262.232598  1304.694397   \n",
       "4      1307.852292  1461.994907   \n",
       "..             ...          ...   \n",
       "150    7521.519525  7574.219015   \n",
       "151    7600.738540  8071.332767   \n",
       "152    8079.567063  8321.910017   \n",
       "153    8336.680815  8765.764007   \n",
       "154    8770.874363  9008.242784   \n",
       "\n",
       "                                                  text  \n",
       "0    Herr talman! Herr Nihlfors har frågat, om jag ...  \n",
       "1    Herr talman! Jag får tacka för det mycket posi...  \n",
       "2    Herr talman! Jag ber att få tacka för svaret s...  \n",
       "3    Herr talman! Herr Fridolfsson i Stockholm har ...  \n",
       "4    Herr talman! Jag ber att få tacka handelsminis...  \n",
       "..                                                 ...  \n",
       "150  Herr talman! Bara ett par ord med anledning av...  \n",
       "151  Herr talman! I motion II: 888, likalydande med...  \n",
       "152  Herr talman! Jag måste först säga några ord ti...  \n",
       "153  Herr talman! Jag skulle i likhet med fru Krist...  \n",
       "154  Herr talman! Det kan kanske ha ett visst intre...  \n",
       "\n",
       "[153 rows x 7 columns]"
      ]
     },
     "execution_count": 2,
     "metadata": {},
     "output_type": "execute_result"
    }
   ],
   "source": [
    "df = df[[\"protocol_id\", \"name\", \"party\", \"gender\", \"start_segment\", \"end_segment\", \"text\"]]\n",
    "df = df[df[\"protocol_id\"] == \"prot-1966--ak--25\"]\n",
    "\n",
    "df"
   ]
  },
  {
   "cell_type": "code",
   "execution_count": 3,
   "metadata": {},
   "outputs": [],
   "source": [
    "df.to_csv(\"/mnt/c/Users/User/thesis/filtered_riksdag.csv\", index=False)"
   ]
  },
  {
   "cell_type": "code",
   "execution_count": null,
   "metadata": {},
   "outputs": [
    {
     "data": {
      "image/png": "[encoded data removed]",
      "text/plain": [
       "<Figure size 640x480 with 1 Axes>"
      ]
     },
     "metadata": {},
     "output_type": "display_data"
    },
    {
     "name": "stdout",
     "output_type": "stream",
     "text": [
      "Average word count per statement: 416.8169934640523\n",
      "Standard deviation of word counts: 414.40949487935774\n"
     ]
    }
   ],
   "source": [
    "filter_df = pd.read_csv(\"filtered_riksdag.csv\")\n",
    "# 1. Calculate the word count for each statement\n",
    "filter_df['word_count'] = filter_df['text'].apply(lambda x: len(x.split()))\n",
    "\n",
    "# 2. Calculate the average word count\n",
    "average_word_count = filter_df['word_count'].mean()\n",
    "\n",
    "# 3. Calculate the spread (standard deviation)\n",
    "std_dev_word_count = filter_df['word_count'].std()\n",
    "\n",
    "plt.hist(filter_df['word_count'], bins=30, edgecolor='black')\n",
    "plt.title(\"Distribution of Statement Word Counts\")\n",
    "plt.xlabel(\"Word Count of Statements\")\n",
    "plt.ylabel(\"Frequency\")\n",
    "plt.show()\n",
    "\n",
    "print(f\"Average word count per statement: {average_word_count}\")\n",
    "print(f\"Standard deviation of word counts: {std_dev_word_count}\")"
   ]
  }
 ],
 "metadata": {
  "kernelspec": {
   "display_name": ".venv",
   "language": "python",
   "name": "python3"
  },
  "language_info": {
   "codemirror_mode": {
    "name": "ipython",
    "version": 3
   },
   "file_extension": ".py",
   "mimetype": "text/x-python",
   "name": "python",
   "nbconvert_exporter": "python",
   "pygments_lexer": "ipython3",
   "version": "3.12.6"
  }
 },
 "nbformat": 4,
 "nbformat_minor": 2
}
