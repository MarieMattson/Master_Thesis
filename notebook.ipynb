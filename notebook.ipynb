{
 "cells": [
  {
   "cell_type": "markdown",
   "metadata": {},
   "source": [
    "This crashed when I tried it in a py-file, which is why it's here"
   ]
  },
  {
   "cell_type": "code",
   "execution_count": 1,
   "metadata": {},
   "outputs": [
    {
     "data": {
      "text/plain": [
       "Index(['speech_id', 'protocol_id', 'speech_number', 'dates', 'name',\n",
       "       'person_id', 'speaker_id', 'riksdagen_id', 'party', 'district', 'role',\n",
       "       'gender', 'start_segment', 'end_segment', 'duration_segment', 'text',\n",
       "       'text_normalized', 'transcription_w2v', 'start_text_time',\n",
       "       'end_text_time', 'born', 'dead', 'bleu_score', 'overall_score',\n",
       "       'nr_speech_segments', 'start_segment_same', 'audio_file'],\n",
       "      dtype='object')"
      ]
     },
     "execution_count": 1,
     "metadata": {},
     "output_type": "execute_result"
    }
   ],
   "source": [
    "import pandas as pd\n",
    "df = pd.read_parquet(\"/mnt/c/Users/User/thesis/rixvox-alignments.parquet\")\n",
    "head = df.head()\n",
    "\n",
    "head.columns\n"
   ]
  },
  {
   "cell_type": "code",
   "execution_count": 12,
   "metadata": {},
   "outputs": [
    {
     "data": {
      "text/html": [
       "<div>\n",
       "<style scoped>\n",
       "    .dataframe tbody tr th:only-of-type {\n",
       "        vertical-align: middle;\n",
       "    }\n",
       "\n",
       "    .dataframe tbody tr th {\n",
       "        vertical-align: top;\n",
       "    }\n",
       "\n",
       "    .dataframe thead th {\n",
       "        text-align: right;\n",
       "    }\n",
       "</style>\n",
       "<table border=\"1\" class=\"dataframe\">\n",
       "  <thead>\n",
       "    <tr style=\"text-align: right;\">\n",
       "      <th></th>\n",
       "      <th>name</th>\n",
       "      <th>party</th>\n",
       "      <th>gender</th>\n",
       "      <th>text</th>\n",
       "    </tr>\n",
       "  </thead>\n",
       "  <tbody>\n",
       "    <tr>\n",
       "      <th>0</th>\n",
       "      <td>Gunnar Sträng</td>\n",
       "      <td>Socialdemokraterna</td>\n",
       "      <td>man</td>\n",
       "      <td>Herr talman! Herr Nihlfors har frågat, om jag ...</td>\n",
       "    </tr>\n",
       "    <tr>\n",
       "      <th>1</th>\n",
       "      <td>Folke Nihlfors</td>\n",
       "      <td>Folkpartiet</td>\n",
       "      <td>man</td>\n",
       "      <td>Herr talman! Jag får tacka för det mycket posi...</td>\n",
       "    </tr>\n",
       "    <tr>\n",
       "      <th>2</th>\n",
       "      <td>Manne Ståhl</td>\n",
       "      <td>Folkpartiet</td>\n",
       "      <td>man</td>\n",
       "      <td>Herr talman! Jag ber att få tacka för svaret s...</td>\n",
       "    </tr>\n",
       "    <tr>\n",
       "      <th>3</th>\n",
       "      <td>Gunnar Lange</td>\n",
       "      <td>Socialdemokraterna</td>\n",
       "      <td>man</td>\n",
       "      <td>Herr talman! Herr Fridolfsson i Stockholm har ...</td>\n",
       "    </tr>\n",
       "    <tr>\n",
       "      <th>4</th>\n",
       "      <td>Filip Fridolfsson</td>\n",
       "      <td>Moderaterna</td>\n",
       "      <td>man</td>\n",
       "      <td>Herr talman! Jag ber att få tacka handelsminis...</td>\n",
       "    </tr>\n",
       "  </tbody>\n",
       "</table>\n",
       "</div>"
      ],
      "text/plain": [
       "                name               party gender  \\\n",
       "0      Gunnar Sträng  Socialdemokraterna    man   \n",
       "1     Folke Nihlfors         Folkpartiet    man   \n",
       "2        Manne Ståhl         Folkpartiet    man   \n",
       "3       Gunnar Lange  Socialdemokraterna    man   \n",
       "4  Filip Fridolfsson         Moderaterna    man   \n",
       "\n",
       "                                                text  \n",
       "0  Herr talman! Herr Nihlfors har frågat, om jag ...  \n",
       "1  Herr talman! Jag får tacka för det mycket posi...  \n",
       "2  Herr talman! Jag ber att få tacka för svaret s...  \n",
       "3  Herr talman! Herr Fridolfsson i Stockholm har ...  \n",
       "4  Herr talman! Jag ber att få tacka handelsminis...  "
      ]
     },
     "execution_count": 12,
     "metadata": {},
     "output_type": "execute_result"
    }
   ],
   "source": [
    "df = df[[\"name\", \"party\", \"gender\", \"text\"]]\n",
    "\n",
    "df.to_csv(\"/mnt/c/Users/User/thesis/filtered_riksdag.csv\", index=False)\n",
    "\n",
    "df.head()"
   ]
  }
 ],
 "metadata": {
  "kernelspec": {
   "display_name": ".venv",
   "language": "python",
   "name": "python3"
  },
  "language_info": {
   "codemirror_mode": {
    "name": "ipython",
    "version": 3
   },
   "file_extension": ".py",
   "mimetype": "text/x-python",
   "name": "python",
   "nbconvert_exporter": "python",
   "pygments_lexer": "ipython3",
   "version": "3.12.6"
  }
 },
 "nbformat": 4,
 "nbformat_minor": 2
}
