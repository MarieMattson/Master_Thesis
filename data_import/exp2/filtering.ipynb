{
 "cells": [
  {
   "cell_type": "code",
   "execution_count": 1,
   "metadata": {},
   "outputs": [
    {
     "name": "stdout",
     "output_type": "stream",
     "text": [
      "Återrapportering från Europeiska rådets möte den 10-11 mars: 6\n",
      "Frågestund: 3\n",
      "Ämnesbetyg - betygen ska bättre spegla elevers kunskaper: 1\n",
      "Fiskeripolitik: 1\n",
      "Riksrevisionens rapport om yrkeshögskolan: 3\n",
      "Stöd till personer med funktionsnedsättning: 1\n",
      "Associationsrätt: 2\n",
      "Vissa säkerhetspolitiska frågor: 3\n",
      "Inkomstskatt: 2\n",
      "Riksrevisionens rapport om systemet med energideklarationer: 1\n",
      "Riksrevisionens rapport om att komma till Sverige som anhörig: 1\n",
      "(forts. från § 13) Stöd till personer med funktionsnedsättning (forts. SoU12): 1\n",
      "Riksrevisionens rapport om Försäkringskassans arbete med att förebygga sjukskrivning: 1\n"
     ]
    }
   ],
   "source": [
    "import json\n",
    "from collections import Counter\n",
    "\n",
    "qa_data_path = \"/mnt/c/Users/User/thesis/data_import/exp2/qa_dataset.json\"\n",
    "\n",
    "\n",
    "with open(qa_data_path, 'r', encoding='utf-8') as f:\n",
    "    data = json.load(f)\n",
    "\n",
    "# Create a Counter to count occurrences of each unique 'avsnittsrubrik'\n",
    "avsnittsrubrik_counter = Counter()\n",
    "\n",
    "# Iterate over the data and count 'avsnittsrubrik'\n",
    "for item in data:\n",
    "    if 'avsnittsrubrik' in item:\n",
    "        avsnittsrubrik_counter[item['avsnittsrubrik']] += 1\n",
    "\n",
    "# Print the count of each unique 'avsnittsrubrik'\n",
    "for avsnittsrubrik, count in avsnittsrubrik_counter.items():\n",
    "    print(f\"{avsnittsrubrik}: {count}\")\n"
   ]
  },
  {
   "cell_type": "code",
   "execution_count": 3,
   "metadata": {},
   "outputs": [
    {
     "data": {
      "text/plain": [
       "'Yes'"
      ]
     },
     "execution_count": 3,
     "metadata": {},
     "output_type": "execute_result"
    }
   ],
   "source": [
    "#just testing parsing some output\n",
    "\n",
    "data = {'openai/gpt-4o': {'generated_text': 'Yes', 'message': [{'role': 'user', 'message': '', 'tools': None, 'tool_calls': None}, {'role': 'assistant', 'message': 'Yes', 'tools': None, 'tool_calls': []}], 'status': 'success', 'usage': {'completion_tokens': 2, 'prompt_tokens': 1104, 'total_tokens': 1106, 'completion_tokens_details': {'accepted_prediction_tokens': 0, 'audio_tokens': 0, 'reasoning_tokens': 0, 'rejected_prediction_tokens': 0}, 'prompt_tokens_details': {'audio_tokens': 0, 'cached_tokens': 0}}, 'cost': 0.0027800000000000004}}\n",
    "\n",
    "data['openai/gpt-4o']['generated_text']"
   ]
  }
 ],
 "metadata": {
  "kernelspec": {
   "display_name": ".venv",
   "language": "python",
   "name": "python3"
  },
  "language_info": {
   "codemirror_mode": {
    "name": "ipython",
    "version": 3
   },
   "file_extension": ".py",
   "mimetype": "text/x-python",
   "name": "python",
   "nbconvert_exporter": "python",
   "pygments_lexer": "ipython3",
   "version": "3.12.6"
  }
 },
 "nbformat": 4,
 "nbformat_minor": 2
}
