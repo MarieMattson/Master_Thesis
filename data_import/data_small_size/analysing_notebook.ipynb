{
 "cells": [
  {
   "cell_type": "code",
   "execution_count": 4,
   "id": "62828170",
   "metadata": {},
   "outputs": [
    {
     "name": "stdout",
     "output_type": "stream",
     "text": [
      "2022-03\n"
     ]
    }
   ],
   "source": [
    "print(\"2022-03-15 00:00:00\"[0:7])"
   ]
  },
  {
   "cell_type": "code",
   "execution_count": null,
   "id": "76e3894d",
   "metadata": {},
   "outputs": [
    {
     "name": "stdout",
     "output_type": "stream",
     "text": [
      "text-embedding-ada-002\n"
     ]
    }
   ],
   "source": [
    "\n",
    "from langchain.embeddings import OpenAIEmbeddings\n",
    "embedding = OpenAIEmbeddings()\n",
    "print(embedding.model)"
   ]
  },
  {
   "cell_type": "markdown",
   "id": "4ea15c8a",
   "metadata": {},
   "source": [
    "this is with 72 or 73 questions"
   ]
  },
  {
   "cell_type": "code",
   "execution_count": 4,
   "id": "5fef3557",
   "metadata": {},
   "outputs": [
    {
     "name": "stdout",
     "output_type": "stream",
     "text": [
      "qa_type: generate_qa_comparison_party\n",
      "  Cosine Rag Response - Factuality: 13/3\n",
      "  Cosine Rag Response - Relevance: 12/4\n",
      "  Graph Rag Bm25 Response - Factuality: 13/3\n",
      "  Graph Rag Bm25 Response - Relevance: 15/1\n",
      "  Graph Rag Cosine Response - Factuality: 10/7\n",
      "  Graph Rag Cosine Response - Relevance: 15/2\n",
      "\n",
      "{'generate_qa_comparison_party': {'cosine_RAG_response': {'factuality': {'Yes': 13, 'No': 3}, 'relevance': {'Yes': 12, 'No': 4}}, 'graph_RAG_bm25_response': {'factuality': {'Yes': 13, 'No': 3}, 'relevance': {'Yes': 15, 'No': 1}}, 'graph_RAG_cosine_response': {'factuality': {'Yes': 10, 'No': 7}, 'relevance': {'Yes': 15, 'No': 2}}}, 'generate_qa_comparison_person': {'cosine_RAG_response': {'factuality': {'Yes': 17, 'No': 4}, 'relevance': {'Yes': 18, 'No': 3}}, 'graph_RAG_bm25_response': {'factuality': {'Yes': 16, 'No': 5}, 'relevance': {'Yes': 15, 'No': 6}}, 'graph_RAG_cosine_response': {'factuality': {'Yes': 13, 'No': 8}, 'relevance': {'Yes': 19, 'No': 2}}}, 'generate_qa_inference_person': {'cosine_RAG_response': {'factuality': {'Yes': 7, 'No': 7}, 'relevance': {'Yes': 8, 'No': 6}}, 'graph_RAG_bm25_response': {'factuality': {'Yes': 9, 'No': 5}, 'relevance': {'Yes': 9, 'No': 5}}, 'graph_RAG_cosine_response': {'factuality': {'Yes': 9, 'No': 5}, 'relevance': {'Yes': 8, 'No': 6}}}, 'generate_qa_inference_party': {'cosine_RAG_response': {'factuality': {'Yes': 3, 'No': 6}, 'relevance': {'Yes': 4, 'No': 5}}, 'graph_RAG_bm25_response': {'factuality': {'Yes': 4, 'No': 5}, 'relevance': {'Yes': 4, 'No': 5}}, 'graph_RAG_cosine_response': {'factuality': {'Yes': 3, 'No': 5}, 'relevance': {'Yes': 5, 'No': 3}}}, 'generate_qa_temporal': {'cosine_RAG_response': {'factuality': {'Yes': 1, 'No': 7}, 'relevance': {'Yes': 1, 'No': 7}}, 'graph_RAG_bm25_response': {'factuality': {'Yes': 5, 'No': 3}, 'relevance': {'Yes': 5, 'No': 3}}, 'graph_RAG_cosine_response': {'factuality': {'Yes': 4, 'No': 4}, 'relevance': {'Yes': 4, 'No': 4}}}}\n",
      "qa_type: generate_qa_comparison_person\n",
      "  Cosine Rag Response - Factuality: 17/4\n",
      "  Cosine Rag Response - Relevance: 18/3\n",
      "  Graph Rag Bm25 Response - Factuality: 16/5\n",
      "  Graph Rag Bm25 Response - Relevance: 15/6\n",
      "  Graph Rag Cosine Response - Factuality: 13/8\n",
      "  Graph Rag Cosine Response - Relevance: 19/2\n",
      "\n",
      "{'generate_qa_comparison_party': {'cosine_RAG_response': {'factuality': {'Yes': 13, 'No': 3}, 'relevance': {'Yes': 12, 'No': 4}}, 'graph_RAG_bm25_response': {'factuality': {'Yes': 13, 'No': 3}, 'relevance': {'Yes': 15, 'No': 1}}, 'graph_RAG_cosine_response': {'factuality': {'Yes': 10, 'No': 7}, 'relevance': {'Yes': 15, 'No': 2}}}, 'generate_qa_comparison_person': {'cosine_RAG_response': {'factuality': {'Yes': 17, 'No': 4}, 'relevance': {'Yes': 18, 'No': 3}}, 'graph_RAG_bm25_response': {'factuality': {'Yes': 16, 'No': 5}, 'relevance': {'Yes': 15, 'No': 6}}, 'graph_RAG_cosine_response': {'factuality': {'Yes': 13, 'No': 8}, 'relevance': {'Yes': 19, 'No': 2}}}, 'generate_qa_inference_person': {'cosine_RAG_response': {'factuality': {'Yes': 7, 'No': 7}, 'relevance': {'Yes': 8, 'No': 6}}, 'graph_RAG_bm25_response': {'factuality': {'Yes': 9, 'No': 5}, 'relevance': {'Yes': 9, 'No': 5}}, 'graph_RAG_cosine_response': {'factuality': {'Yes': 9, 'No': 5}, 'relevance': {'Yes': 8, 'No': 6}}}, 'generate_qa_inference_party': {'cosine_RAG_response': {'factuality': {'Yes': 3, 'No': 6}, 'relevance': {'Yes': 4, 'No': 5}}, 'graph_RAG_bm25_response': {'factuality': {'Yes': 4, 'No': 5}, 'relevance': {'Yes': 4, 'No': 5}}, 'graph_RAG_cosine_response': {'factuality': {'Yes': 3, 'No': 5}, 'relevance': {'Yes': 5, 'No': 3}}}, 'generate_qa_temporal': {'cosine_RAG_response': {'factuality': {'Yes': 1, 'No': 7}, 'relevance': {'Yes': 1, 'No': 7}}, 'graph_RAG_bm25_response': {'factuality': {'Yes': 5, 'No': 3}, 'relevance': {'Yes': 5, 'No': 3}}, 'graph_RAG_cosine_response': {'factuality': {'Yes': 4, 'No': 4}, 'relevance': {'Yes': 4, 'No': 4}}}}\n",
      "qa_type: generate_qa_inference_person\n",
      "  Cosine Rag Response - Factuality: 7/7\n",
      "  Cosine Rag Response - Relevance: 8/6\n",
      "  Graph Rag Bm25 Response - Factuality: 9/5\n",
      "  Graph Rag Bm25 Response - Relevance: 9/5\n",
      "  Graph Rag Cosine Response - Factuality: 9/5\n",
      "  Graph Rag Cosine Response - Relevance: 8/6\n",
      "\n",
      "{'generate_qa_comparison_party': {'cosine_RAG_response': {'factuality': {'Yes': 13, 'No': 3}, 'relevance': {'Yes': 12, 'No': 4}}, 'graph_RAG_bm25_response': {'factuality': {'Yes': 13, 'No': 3}, 'relevance': {'Yes': 15, 'No': 1}}, 'graph_RAG_cosine_response': {'factuality': {'Yes': 10, 'No': 7}, 'relevance': {'Yes': 15, 'No': 2}}}, 'generate_qa_comparison_person': {'cosine_RAG_response': {'factuality': {'Yes': 17, 'No': 4}, 'relevance': {'Yes': 18, 'No': 3}}, 'graph_RAG_bm25_response': {'factuality': {'Yes': 16, 'No': 5}, 'relevance': {'Yes': 15, 'No': 6}}, 'graph_RAG_cosine_response': {'factuality': {'Yes': 13, 'No': 8}, 'relevance': {'Yes': 19, 'No': 2}}}, 'generate_qa_inference_person': {'cosine_RAG_response': {'factuality': {'Yes': 7, 'No': 7}, 'relevance': {'Yes': 8, 'No': 6}}, 'graph_RAG_bm25_response': {'factuality': {'Yes': 9, 'No': 5}, 'relevance': {'Yes': 9, 'No': 5}}, 'graph_RAG_cosine_response': {'factuality': {'Yes': 9, 'No': 5}, 'relevance': {'Yes': 8, 'No': 6}}}, 'generate_qa_inference_party': {'cosine_RAG_response': {'factuality': {'Yes': 3, 'No': 6}, 'relevance': {'Yes': 4, 'No': 5}}, 'graph_RAG_bm25_response': {'factuality': {'Yes': 4, 'No': 5}, 'relevance': {'Yes': 4, 'No': 5}}, 'graph_RAG_cosine_response': {'factuality': {'Yes': 3, 'No': 5}, 'relevance': {'Yes': 5, 'No': 3}}}, 'generate_qa_temporal': {'cosine_RAG_response': {'factuality': {'Yes': 1, 'No': 7}, 'relevance': {'Yes': 1, 'No': 7}}, 'graph_RAG_bm25_response': {'factuality': {'Yes': 5, 'No': 3}, 'relevance': {'Yes': 5, 'No': 3}}, 'graph_RAG_cosine_response': {'factuality': {'Yes': 4, 'No': 4}, 'relevance': {'Yes': 4, 'No': 4}}}}\n",
      "qa_type: generate_qa_inference_party\n",
      "  Cosine Rag Response - Factuality: 3/6\n",
      "  Cosine Rag Response - Relevance: 4/5\n",
      "  Graph Rag Bm25 Response - Factuality: 4/5\n",
      "  Graph Rag Bm25 Response - Relevance: 4/5\n",
      "  Graph Rag Cosine Response - Factuality: 3/5\n",
      "  Graph Rag Cosine Response - Relevance: 5/3\n",
      "\n",
      "{'generate_qa_comparison_party': {'cosine_RAG_response': {'factuality': {'Yes': 13, 'No': 3}, 'relevance': {'Yes': 12, 'No': 4}}, 'graph_RAG_bm25_response': {'factuality': {'Yes': 13, 'No': 3}, 'relevance': {'Yes': 15, 'No': 1}}, 'graph_RAG_cosine_response': {'factuality': {'Yes': 10, 'No': 7}, 'relevance': {'Yes': 15, 'No': 2}}}, 'generate_qa_comparison_person': {'cosine_RAG_response': {'factuality': {'Yes': 17, 'No': 4}, 'relevance': {'Yes': 18, 'No': 3}}, 'graph_RAG_bm25_response': {'factuality': {'Yes': 16, 'No': 5}, 'relevance': {'Yes': 15, 'No': 6}}, 'graph_RAG_cosine_response': {'factuality': {'Yes': 13, 'No': 8}, 'relevance': {'Yes': 19, 'No': 2}}}, 'generate_qa_inference_person': {'cosine_RAG_response': {'factuality': {'Yes': 7, 'No': 7}, 'relevance': {'Yes': 8, 'No': 6}}, 'graph_RAG_bm25_response': {'factuality': {'Yes': 9, 'No': 5}, 'relevance': {'Yes': 9, 'No': 5}}, 'graph_RAG_cosine_response': {'factuality': {'Yes': 9, 'No': 5}, 'relevance': {'Yes': 8, 'No': 6}}}, 'generate_qa_inference_party': {'cosine_RAG_response': {'factuality': {'Yes': 3, 'No': 6}, 'relevance': {'Yes': 4, 'No': 5}}, 'graph_RAG_bm25_response': {'factuality': {'Yes': 4, 'No': 5}, 'relevance': {'Yes': 4, 'No': 5}}, 'graph_RAG_cosine_response': {'factuality': {'Yes': 3, 'No': 5}, 'relevance': {'Yes': 5, 'No': 3}}}, 'generate_qa_temporal': {'cosine_RAG_response': {'factuality': {'Yes': 1, 'No': 7}, 'relevance': {'Yes': 1, 'No': 7}}, 'graph_RAG_bm25_response': {'factuality': {'Yes': 5, 'No': 3}, 'relevance': {'Yes': 5, 'No': 3}}, 'graph_RAG_cosine_response': {'factuality': {'Yes': 4, 'No': 4}, 'relevance': {'Yes': 4, 'No': 4}}}}\n",
      "qa_type: generate_qa_temporal\n",
      "  Cosine Rag Response - Factuality: 1/7\n",
      "  Cosine Rag Response - Relevance: 1/7\n",
      "  Graph Rag Bm25 Response - Factuality: 5/3\n",
      "  Graph Rag Bm25 Response - Relevance: 5/3\n",
      "  Graph Rag Cosine Response - Factuality: 4/4\n",
      "  Graph Rag Cosine Response - Relevance: 4/4\n",
      "\n",
      "{'generate_qa_comparison_party': {'cosine_RAG_response': {'factuality': {'Yes': 13, 'No': 3}, 'relevance': {'Yes': 12, 'No': 4}}, 'graph_RAG_bm25_response': {'factuality': {'Yes': 13, 'No': 3}, 'relevance': {'Yes': 15, 'No': 1}}, 'graph_RAG_cosine_response': {'factuality': {'Yes': 10, 'No': 7}, 'relevance': {'Yes': 15, 'No': 2}}}, 'generate_qa_comparison_person': {'cosine_RAG_response': {'factuality': {'Yes': 17, 'No': 4}, 'relevance': {'Yes': 18, 'No': 3}}, 'graph_RAG_bm25_response': {'factuality': {'Yes': 16, 'No': 5}, 'relevance': {'Yes': 15, 'No': 6}}, 'graph_RAG_cosine_response': {'factuality': {'Yes': 13, 'No': 8}, 'relevance': {'Yes': 19, 'No': 2}}}, 'generate_qa_inference_person': {'cosine_RAG_response': {'factuality': {'Yes': 7, 'No': 7}, 'relevance': {'Yes': 8, 'No': 6}}, 'graph_RAG_bm25_response': {'factuality': {'Yes': 9, 'No': 5}, 'relevance': {'Yes': 9, 'No': 5}}, 'graph_RAG_cosine_response': {'factuality': {'Yes': 9, 'No': 5}, 'relevance': {'Yes': 8, 'No': 6}}}, 'generate_qa_inference_party': {'cosine_RAG_response': {'factuality': {'Yes': 3, 'No': 6}, 'relevance': {'Yes': 4, 'No': 5}}, 'graph_RAG_bm25_response': {'factuality': {'Yes': 4, 'No': 5}, 'relevance': {'Yes': 4, 'No': 5}}, 'graph_RAG_cosine_response': {'factuality': {'Yes': 3, 'No': 5}, 'relevance': {'Yes': 5, 'No': 3}}}, 'generate_qa_temporal': {'cosine_RAG_response': {'factuality': {'Yes': 1, 'No': 7}, 'relevance': {'Yes': 1, 'No': 7}}, 'graph_RAG_bm25_response': {'factuality': {'Yes': 5, 'No': 3}, 'relevance': {'Yes': 5, 'No': 3}}, 'graph_RAG_cosine_response': {'factuality': {'Yes': 4, 'No': 4}, 'relevance': {'Yes': 4, 'No': 4}}}}\n"
     ]
    }
   ],
   "source": [
    "data = {'generate_qa_comparison_party': {'cosine_RAG_response': {'factuality': {'Yes': 13, 'No': 3}, 'relevance': {'Yes': 12, 'No': 4}}, 'graph_RAG_bm25_response': {'factuality': {'Yes': 13, 'No': 3}, 'relevance': {'Yes': 15, 'No': 1}}, 'graph_RAG_cosine_response': {'factuality': {'Yes': 10, 'No': 7}, 'relevance': {'Yes': 15, 'No': 2}}}, 'generate_qa_comparison_person': {'cosine_RAG_response': {'factuality': {'Yes': 17, 'No': 4}, 'relevance': {'Yes': 18, 'No': 3}}, 'graph_RAG_bm25_response': {'factuality': {'Yes': 16, 'No': 5}, 'relevance': {'Yes': 15, 'No': 6}}, 'graph_RAG_cosine_response': {'factuality': {'Yes': 13, 'No': 8}, 'relevance': {'Yes': 19, 'No': 2}}}, 'generate_qa_inference_person': {'cosine_RAG_response': {'factuality': {'Yes': 7, 'No': 7}, 'relevance': {'Yes': 8, 'No': 6}}, 'graph_RAG_bm25_response': {'factuality': {'Yes': 9, 'No': 5}, 'relevance': {'Yes': 9, 'No': 5}}, 'graph_RAG_cosine_response': {'factuality': {'Yes': 9, 'No': 5}, 'relevance': {'Yes': 8, 'No': 6}}}, 'generate_qa_inference_party': {'cosine_RAG_response': {'factuality': {'Yes': 3, 'No': 6}, 'relevance': {'Yes': 4, 'No': 5}}, 'graph_RAG_bm25_response': {'factuality': {'Yes': 4, 'No': 5}, 'relevance': {'Yes': 4, 'No': 5}}, 'graph_RAG_cosine_response': {'factuality': {'Yes': 3, 'No': 5}, 'relevance': {'Yes': 5, 'No': 3}}}, 'generate_qa_temporal': {'cosine_RAG_response': {'factuality': {'Yes': 1, 'No': 7}, 'relevance': {'Yes': 1, 'No': 7}}, 'graph_RAG_bm25_response': {'factuality': {'Yes': 5, 'No': 3}, 'relevance': {'Yes': 5, 'No': 3}}, 'graph_RAG_cosine_response': {'factuality': {'Yes': 4, 'No': 4}, 'relevance': {'Yes': 4, 'No': 4}}}}\n",
    "\n",
    "# Output the data in the required format\n",
    "for qa_type, response_data in data.items():\n",
    "    print(f\"qa_type: {qa_type}\")\n",
    "    for response_type, counts in response_data.items():\n",
    "        factuality_yes = counts[\"factuality\"][\"Yes\"]\n",
    "        factuality_no = counts[\"factuality\"][\"No\"]\n",
    "        relevance_yes = counts[\"relevance\"][\"Yes\"]\n",
    "        relevance_no = counts[\"relevance\"][\"No\"]\n",
    "        \n",
    "        # Output the counts in the desired format\n",
    "        print(f\"  {response_type.replace('_', ' ').title()} - Factuality: {factuality_yes}/{factuality_no}\")\n",
    "        print(f\"  {response_type.replace('_', ' ').title()} - Relevance: {relevance_yes}/{relevance_no}\")\n",
    "    print()  # Line break for better readability\n",
    "\n",
    "    print(data)"
   ]
  },
  {
   "cell_type": "code",
   "execution_count": 3,
   "id": "dc071aa6",
   "metadata": {},
   "outputs": [
    {
     "name": "stdout",
     "output_type": "stream",
     "text": [
      "qa_type: generate_qa_temporal\n",
      "  Cosine Rag Response - Factuality: 1/7\n",
      "  Cosine Rag Response - Relevance: 1/7\n",
      "  Graph Rag Bm25 Response - Factuality: 5/3\n",
      "  Graph Rag Bm25 Response - Relevance: 5/3\n",
      "  Graph Rag Cosine Response - Factuality: 4/4\n",
      "  Graph Rag Cosine Response - Relevance: 4/4\n",
      "\n",
      "qa_type: generate_qa_comparison_party\n",
      "  Cosine Rag Response - Factuality: 30/7\n",
      "  Cosine Rag Response - Relevance: 30/7\n",
      "  Graph Rag Bm25 Response - Factuality: 29/8\n",
      "  Graph Rag Bm25 Response - Relevance: 30/7\n",
      "  Graph Rag Cosine Response - Factuality: 23/15\n",
      "  Graph Rag Cosine Response - Relevance: 34/4\n",
      "\n",
      "qa_type: generate_qa_inference_party\n",
      "  Cosine Rag Response - Factuality: 10/13\n",
      "  Cosine Rag Response - Relevance: 12/11\n",
      "  Graph Rag Bm25 Response - Factuality: 13/10\n",
      "  Graph Rag Bm25 Response - Relevance: 13/10\n",
      "  Graph Rag Cosine Response - Factuality: 12/10\n",
      "  Graph Rag Cosine Response - Relevance: 13/9\n",
      "\n",
      "{'generate_qa_temporal': {'cosine_RAG_response': {'factuality': {'Yes': 1, 'No': 7}, 'relevance': {'Yes': 1, 'No': 7}}, 'graph_RAG_bm25_response': {'factuality': {'Yes': 5, 'No': 3}, 'relevance': {'Yes': 5, 'No': 3}}, 'graph_RAG_cosine_response': {'factuality': {'Yes': 4, 'No': 4}, 'relevance': {'Yes': 4, 'No': 4}}}, 'generate_qa_comparison_party': {'cosine_RAG_response': {'factuality': {'Yes': 30, 'No': 7}, 'relevance': {'Yes': 30, 'No': 7}}, 'graph_RAG_bm25_response': {'factuality': {'Yes': 29, 'No': 8}, 'relevance': {'Yes': 30, 'No': 7}}, 'graph_RAG_cosine_response': {'factuality': {'Yes': 23, 'No': 15}, 'relevance': {'Yes': 34, 'No': 4}}}, 'generate_qa_inference_party': {'cosine_RAG_response': {'factuality': {'Yes': 10, 'No': 13}, 'relevance': {'Yes': 12, 'No': 11}}, 'graph_RAG_bm25_response': {'factuality': {'Yes': 13, 'No': 10}, 'relevance': {'Yes': 13, 'No': 10}}, 'graph_RAG_cosine_response': {'factuality': {'Yes': 12, 'No': 10}, 'relevance': {'Yes': 13, 'No': 9}}}}\n"
     ]
    }
   ],
   "source": [
    "def combine_qa_types(data):\n",
    "    # Define which query types to combine\n",
    "    combine_pairs = [\n",
    "        ('generate_qa_comparison_party', 'generate_qa_comparison_person'),\n",
    "        ('generate_qa_inference_party', 'generate_qa_inference_person'),\n",
    "        # Add other pairs to combine as needed\n",
    "    ]\n",
    "\n",
    "    # Initialize a new dictionary for combined results\n",
    "    combined_data = {}\n",
    "\n",
    "    # Loop through the defined query type pairs\n",
    "    for first_qa_type, second_qa_type in combine_pairs:\n",
    "        # Ensure that both query types are in the data\n",
    "        if first_qa_type in data and second_qa_type in data:\n",
    "            combined_data[first_qa_type] = {}\n",
    "            \n",
    "            # Combine the data for each response type\n",
    "            for response_type in data[first_qa_type]:\n",
    "                combined_data[first_qa_type][response_type] = {\n",
    "                    \"factuality\": {\n",
    "                        \"Yes\": data[first_qa_type][response_type][\"factuality\"][\"Yes\"] + data[second_qa_type][response_type][\"factuality\"][\"Yes\"],\n",
    "                        \"No\": data[first_qa_type][response_type][\"factuality\"][\"No\"] + data[second_qa_type][response_type][\"factuality\"][\"No\"]\n",
    "                    },\n",
    "                    \"relevance\": {\n",
    "                        \"Yes\": data[first_qa_type][response_type][\"relevance\"][\"Yes\"] + data[second_qa_type][response_type][\"relevance\"][\"Yes\"],\n",
    "                        \"No\": data[first_qa_type][response_type][\"relevance\"][\"No\"] + data[second_qa_type][response_type][\"relevance\"][\"No\"]\n",
    "                    }\n",
    "                }\n",
    "            \n",
    "            # Remove the original two qa_types after combining\n",
    "            del data[first_qa_type]\n",
    "            del data[second_qa_type]\n",
    "    \n",
    "    # Add combined data back to the main data dictionary\n",
    "    data.update(combined_data)\n",
    "\n",
    "    return data\n",
    "\n",
    "\n",
    "def output_combined_data(data):\n",
    "    # Output the data in the required format\n",
    "    for qa_type, response_data in data.items():\n",
    "        print(f\"qa_type: {qa_type}\")\n",
    "        for response_type, counts in response_data.items():\n",
    "            factuality_yes = counts[\"factuality\"][\"Yes\"]\n",
    "            factuality_no = counts[\"factuality\"][\"No\"]\n",
    "            relevance_yes = counts[\"relevance\"][\"Yes\"]\n",
    "            relevance_no = counts[\"relevance\"][\"No\"]\n",
    "            \n",
    "            # Output the counts in the desired format\n",
    "            print(f\"  {response_type.replace('_', ' ').title()} - Factuality: {factuality_yes}/{factuality_no}\")\n",
    "            print(f\"  {response_type.replace('_', ' ').title()} - Relevance: {relevance_yes}/{relevance_no}\")\n",
    "        print()  # Line break for better readability\n",
    "\n",
    "    print(data)  # Print the combined data\n",
    "\n",
    "# Original data\n",
    "data = {\n",
    "    'generate_qa_comparison_party': {'cosine_RAG_response': {'factuality': {'Yes': 13, 'No': 3}, 'relevance': {'Yes': 12, 'No': 4}}, 'graph_RAG_bm25_response': {'factuality': {'Yes': 13, 'No': 3}, 'relevance': {'Yes': 15, 'No': 1}}, 'graph_RAG_cosine_response': {'factuality': {'Yes': 10, 'No': 7}, 'relevance': {'Yes': 15, 'No': 2}}},\n",
    "    'generate_qa_comparison_person': {'cosine_RAG_response': {'factuality': {'Yes': 17, 'No': 4}, 'relevance': {'Yes': 18, 'No': 3}}, 'graph_RAG_bm25_response': {'factuality': {'Yes': 16, 'No': 5}, 'relevance': {'Yes': 15, 'No': 6}}, 'graph_RAG_cosine_response': {'factuality': {'Yes': 13, 'No': 8}, 'relevance': {'Yes': 19, 'No': 2}}},\n",
    "    'generate_qa_inference_person': {'cosine_RAG_response': {'factuality': {'Yes': 7, 'No': 7}, 'relevance': {'Yes': 8, 'No': 6}}, 'graph_RAG_bm25_response': {'factuality': {'Yes': 9, 'No': 5}, 'relevance': {'Yes': 9, 'No': 5}}, 'graph_RAG_cosine_response': {'factuality': {'Yes': 9, 'No': 5}, 'relevance': {'Yes': 8, 'No': 6}}},\n",
    "    'generate_qa_inference_party': {'cosine_RAG_response': {'factuality': {'Yes': 3, 'No': 6}, 'relevance': {'Yes': 4, 'No': 5}}, 'graph_RAG_bm25_response': {'factuality': {'Yes': 4, 'No': 5}, 'relevance': {'Yes': 4, 'No': 5}}, 'graph_RAG_cosine_response': {'factuality': {'Yes': 3, 'No': 5}, 'relevance': {'Yes': 5, 'No': 3}}},\n",
    "    'generate_qa_temporal': {'cosine_RAG_response': {'factuality': {'Yes': 1, 'No': 7}, 'relevance': {'Yes': 1, 'No': 7}}, 'graph_RAG_bm25_response': {'factuality': {'Yes': 5, 'No': 3}, 'relevance': {'Yes': 5, 'No': 3}}, 'graph_RAG_cosine_response': {'factuality': {'Yes': 4, 'No': 4}, 'relevance': {'Yes': 4, 'No': 4}}}\n",
    "}\n",
    "\n",
    "# Combine the qa_types as per the required pairs\n",
    "combined_data = combine_qa_types(data)\n",
    "\n",
    "# Output the combined data\n",
    "output_combined_data(combined_data)\n"
   ]
  },
  {
   "cell_type": "code",
   "execution_count": null,
   "id": "e547bca6",
   "metadata": {},
   "outputs": [],
   "source": [
    "\"/mnt/c/Users/User/thesis/detailed_output.csv\""
   ]
  },
  {
   "cell_type": "code",
   "execution_count": 9,
   "id": "4e1b2f2d",
   "metadata": {},
   "outputs": [
    {
     "name": "stdout",
     "output_type": "stream",
     "text": [
      "{'d4bf82c6-d9fe-ec11-9174-901b0e9b71a0', '00839754-be2a-ed11-9178-901b0e9b71a8', 'a86f8c75-feb7-eb11-914f-901b0eac4c78', '2887ccf7-3728-ec11-915b-901b0eac4c78', '5048d815-7706-ec11-9160-901b0e9b71a0', '1b6f07f4-3a1d-ec11-915b-901b0eac4c78', '06c02348-bc23-ed11-9178-901b0e9b71a8', '04c790c4-7aba-ec11-9167-901b0eac4c78', 'fe87f68a-bb39-ed11-9178-901b0e9b71a8', 'b8a9e37b-c567-eb11-914e-901b0e9b71a0', '0efb26a5-23cd-eb11-9156-901b0e9b71a8', '0353ade4-36c2-ec11-9167-901b0eac4c78', 'db022d69-c139-ed11-9178-901b0e9b71a8', '4f137898-37ee-ec11-916f-901b0eac4c70', 'fffe7b0c-dafe-ec11-9174-901b0e9b71a0', '89ddcf4e-3dc6-ec11-9170-0090facf175a', '435e4e26-4157-eb11-9147-901b0eac4c70', '54449a9d-ad34-eb11-914a-901b0e9b71a8', 'fe550445-f0ca-ec11-9170-0090facf175a', 'a6184259-3c1d-ec11-915b-901b0eac4c78', '0f4078f4-bb23-ed11-9178-901b0e9b71a8', 'f64283c2-6fc8-eb11-9156-901b0e9b71a8', '62ea50f7-3328-ec11-915b-901b0eac4c78', 'be0c5c85-3a0b-ec11-9160-901b0e9b71a0', 'cd527919-c02d-ec11-915b-901b0eac4c78', '4c2c89b4-2bb4-ec11-9167-901b0eac4c78', '3027a0b5-3316-ec11-9160-901b0e9b71a0', '5384c086-cf85-ec11-9163-901b0eac4c70', 'a5e0c032-879c-eb11-9152-901b0e9b71a8', '1a4d4bca-3a71-eb11-914e-901b0e9b71a0', '1187ccf7-3728-ec11-915b-901b0eac4c78', '1e53ade4-36c2-ec11-9167-901b0eac4c78', '61c2708f-630d-eb11-9146-901b0e9b71a8', '1daf6c2c-c567-eb11-914e-901b0e9b71a0', '299a37a3-620d-eb11-9146-901b0e9b71a8', '569cbcff-68e2-ec11-916f-901b0eac4c70', 'e5162370-294a-ed11-9177-901b0eac4c70', 'c26e4c8d-d9fe-ec11-9174-901b0e9b71a0', 'c0e9425e-bb44-ed11-9177-901b0eac4c70', '6232e588-b57d-eb11-914b-901b0eac4c70', 'c472ad45-d085-ec11-9163-901b0eac4c70', 'f07d3f62-aeb9-ec11-9167-901b0eac4c78', 'f303a3af-9fad-eb11-914f-901b0eac4c78', '424d4bca-3a71-eb11-914e-901b0e9b71a0', '6746481c-24cd-eb11-9156-901b0e9b71a8', '75db90ca-3062-eb11-914e-901b0e9b71a0', '4a6e4c8d-d9fe-ec11-9174-901b0e9b71a0', '56c1f047-4549-ec11-915f-901b0eac4c70', 'd54f430d-276d-eb11-914e-901b0e9b71a0', '203e0d1b-3143-ed11-9177-901b0eac4c70', '2f5df076-f693-ec11-916c-901b0e9b71a0', '60fde4a9-3cd0-eb11-9153-901b0eac4c78', '9382ac7c-2e43-ed11-9177-901b0eac4c70', 'd7e852a9-3416-ec11-9160-901b0e9b71a0', 'a389247b-ffb7-eb11-914f-901b0eac4c78', '0e14cf75-3328-ec11-915b-901b0eac4c78', '5835ab05-ffb7-eb11-914f-901b0eac4c78', '24786589-bc39-ed11-9178-901b0e9b71a8', '17a28ea4-3516-ec11-9160-901b0e9b71a0', '09659db0-63bd-eb11-9156-901b0e9b71a8', '2a9cbcff-68e2-ec11-916f-901b0eac4c70', '7b65139e-2ab4-ec11-9167-901b0eac4c78', 'a8340042-3516-ec11-9160-901b0e9b71a0', '338dff13-4375-ec11-9168-901b0e9b71a8', '2b61f154-2f43-ed11-9177-901b0eac4c70', '7400fe8b-3b1d-ec11-915b-901b0eac4c78', '39a7e467-82f8-ec11-9174-901b0e9b71a0', 'ab9e5c80-3987-eb11-914b-901b0eac4c70', '67bb7eea-620d-eb11-9146-901b0e9b71a8', '2fa228e8-3dc6-ec11-9170-0090facf175a', '1f11d8e4-cca2-eb11-9152-901b0e9b71a8', 'd4c55ba1-b922-ec11-915b-901b0eac4c78', 'dd2a9283-cda2-eb11-9152-901b0e9b71a8'}\n",
      "Counter({'generate_qa_comparison_person': 23, 'generate_qa_comparison_party': 18, 'generate_qa_inference_person': 14, 'generate_qa_inference_party': 9, 'generate_qa_temporal': 9})\n"
     ]
    }
   ],
   "source": [
    "import json\n",
    "from collections import Counter\n",
    "\n",
    "\n",
    "results = \"/mnt/c/Users/User/thesis/data_import/data_small_size/data/qa_dataset_result.json\"\n",
    "\n",
    "with open(results, \"r\", encoding=\"utf-8\") as f:\n",
    "    data = json.load(f)\n",
    "\n",
    "anforande_ids = [item.get(\"anforande_id\") for item in data if \"anforande_id\" in item]\n",
    "anforande_ids = set(anforande_ids)\n",
    "print(anforande_ids)\n",
    "\n",
    "\n",
    "qa_type_counts = Counter(item[\"qa_type\"] for item in data if \"qa_type\" in item)\n",
    "print(qa_type_counts)"
   ]
  },
  {
   "cell_type": "code",
   "execution_count": null,
   "id": "637222ac",
   "metadata": {},
   "outputs": [],
   "source": []
  }
 ],
 "metadata": {
  "kernelspec": {
   "display_name": ".venv",
   "language": "python",
   "name": "python3"
  },
  "language_info": {
   "codemirror_mode": {
    "name": "ipython",
    "version": 3
   },
   "file_extension": ".py",
   "mimetype": "text/x-python",
   "name": "python",
   "nbconvert_exporter": "python",
   "pygments_lexer": "ipython3",
   "version": "3.12.6"
  }
 },
 "nbformat": 4,
 "nbformat_minor": 5
}
