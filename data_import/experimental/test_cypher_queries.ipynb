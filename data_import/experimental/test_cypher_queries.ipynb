{
 "cells": [
  {
   "cell_type": "code",
   "execution_count": null,
   "metadata": {},
   "outputs": [
    {
     "name": "stdout",
     "output_type": "stream",
     "text": [
      "Result of the Query:  [{'partyName': 'Socialdemokraterna', 'womenCount': 3}]\n"
     ]
    },
    {
     "name": "stderr",
     "output_type": "stream",
     "text": [
      "/tmp/ipykernel_74158/58684317.py:41: DeprecationWarning: Using a driver after it has been closed is deprecated. Future versions of the driver will raise an error.\n",
      "  with driver.session() as session:\n"
     ]
    },
    {
     "ename": "AttributeError",
     "evalue": "'Graph' object has no attribute 'add_graph_from_data'",
     "output_type": "error",
     "traceback": [
      "\u001b[0;31m---------------------------------------------------------------------------\u001b[0m",
      "\u001b[0;31mAttributeError\u001b[0m                            Traceback (most recent call last)",
      "Cell \u001b[0;32mIn[4], line 68\u001b[0m\n\u001b[1;32m     65\u001b[0m cyto \u001b[38;5;241m=\u001b[39m ipycytoscape\u001b[38;5;241m.\u001b[39mCytoscapeWidget()\n\u001b[1;32m     67\u001b[0m \u001b[38;5;66;03m# Add graph data to CytoscapeWidget\u001b[39;00m\n\u001b[0;32m---> 68\u001b[0m \u001b[43mcyto\u001b[49m\u001b[38;5;241;43m.\u001b[39;49m\u001b[43mgraph\u001b[49m\u001b[38;5;241;43m.\u001b[39;49m\u001b[43madd_graph_from_data\u001b[49m({\u001b[38;5;124m'\u001b[39m\u001b[38;5;124mnodes\u001b[39m\u001b[38;5;124m'\u001b[39m: nodes, \u001b[38;5;124m'\u001b[39m\u001b[38;5;124medges\u001b[39m\u001b[38;5;124m'\u001b[39m: edges})\n\u001b[1;32m     70\u001b[0m \u001b[38;5;66;03m# Display the visualization\u001b[39;00m\n\u001b[1;32m     71\u001b[0m cyto\n",
      "\u001b[0;31mAttributeError\u001b[0m: 'Graph' object has no attribute 'add_graph_from_data'"
     ]
    }
   ],
   "source": [
    "# Import necessary libraries\n",
    "from neo4j import GraphDatabase\n",
    "import os\n",
    "from dotenv import load_dotenv\n",
    "\n",
    "# Load environment variables for Neo4j credentials\n",
    "load_dotenv()\n",
    "\n",
    "NEO4J_URI = os.getenv(\"NEO4J_URI\")\n",
    "NEO4J_USER = os.getenv(\"NEO4J_USER\")\n",
    "NEO4J_PASSWORD = os.getenv(\"NEO4J_PASSWORD\")\n",
    "\n",
    "# Connect to the Neo4j database\n",
    "driver = GraphDatabase.driver(NEO4J_URI, auth=(NEO4J_USER, NEO4J_PASSWORD))\n",
    "\n",
    "def run_query(query: str):\n",
    "    with driver.session() as session:\n",
    "        result = session.run(query)\n",
    "        return [record.data() for record in result]\n",
    "\n",
    "# Example: Running a Cypher query to get party participants\n",
    "cypher_query = \"\"\"\n",
    "MATCH (person:Person)-[:BELONGS_TO]->(party:Party)\n",
    "WHERE person.gender = 'woman'\n",
    "WITH party.partyName AS partyName, count(person) AS womenCount\n",
    "ORDER BY womenCount DESC\n",
    "LIMIT 1\n",
    "RETURN partyName, womenCount\n",
    "\"\"\"\n",
    "result = run_query(cypher_query)\n",
    "print(result)\n",
    "\n",
    "# Make sure to close the driver connection after you're done\n",
    "driver.close()\n"
   ]
  }
 ],
 "metadata": {
  "kernelspec": {
   "display_name": ".venv",
   "language": "python",
   "name": "python3"
  },
  "language_info": {
   "codemirror_mode": {
    "name": "ipython",
    "version": 3
   },
   "file_extension": ".py",
   "mimetype": "text/x-python",
   "name": "python",
   "nbconvert_exporter": "python",
   "pygments_lexer": "ipython3",
   "version": "3.12.6"
  }
 },
 "nbformat": 4,
 "nbformat_minor": 2
}
