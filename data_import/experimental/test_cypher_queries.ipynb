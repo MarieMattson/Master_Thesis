{
 "cells": [
  {
   "cell_type": "code",
   "execution_count": null,
   "metadata": {},
   "outputs": [
    {
     "ename": "NameError",
     "evalue": "name '__file__' is not defined",
     "output_type": "error",
     "traceback": [
      "\u001b[0;31m---------------------------------------------------------------------------\u001b[0m",
      "\u001b[0;31mNameError\u001b[0m                                 Traceback (most recent call last)",
      "Cell \u001b[0;32mIn[36], line 8\u001b[0m\n\u001b[1;32m      6\u001b[0m \u001b[38;5;28;01mimport\u001b[39;00m\u001b[38;5;250m \u001b[39m\u001b[38;5;21;01msys\u001b[39;00m\n\u001b[1;32m      7\u001b[0m \u001b[38;5;28;01mimport\u001b[39;00m\u001b[38;5;250m \u001b[39m\u001b[38;5;21;01mos\u001b[39;00m\n\u001b[0;32m----> 8\u001b[0m sys\u001b[38;5;241m.\u001b[39mpath\u001b[38;5;241m.\u001b[39mappend(os\u001b[38;5;241m.\u001b[39mpath\u001b[38;5;241m.\u001b[39mabspath(os\u001b[38;5;241m.\u001b[39mpath\u001b[38;5;241m.\u001b[39mjoin(os\u001b[38;5;241m.\u001b[39mpath\u001b[38;5;241m.\u001b[39mdirname(\u001b[38;5;18;43m__file__\u001b[39;49m), \u001b[38;5;124m'\u001b[39m\u001b[38;5;124m../../\u001b[39m\u001b[38;5;124m'\u001b[39m)))\n\u001b[1;32m     11\u001b[0m \u001b[38;5;28;01mfrom\u001b[39;00m\u001b[38;5;250m \u001b[39m\u001b[38;5;21;01mllm_retrieval\u001b[39;00m\u001b[38;5;21;01m.\u001b[39;00m\u001b[38;5;21;01mwrapper\u001b[39;00m\u001b[38;5;250m \u001b[39m\u001b[38;5;28;01mimport\u001b[39;00m main\n\u001b[1;32m     13\u001b[0m \u001b[38;5;66;03m# Load environment variables for Neo4j credentials\u001b[39;00m\n",
      "\u001b[0;31mNameError\u001b[0m: name '__file__' is not defined"
     ]
    }
   ],
   "source": [
    "# Import necessary libraries\n",
    "from neo4j import GraphDatabase\n",
    "import os\n",
    "from dotenv import load_dotenv\n",
    "from yfiles_jupyter_graphs_for_neo4j import Neo4jGraphWidget\n",
    "\n",
    "\n",
    "from llm_retrieval.wrapper import main\n",
    "\n",
    "# Load environment variables for Neo4j credentials\n",
    "load_dotenv()\n",
    "\n",
    "NEO4J_URI = os.getenv(\"NEO4J_URI\")\n",
    "NEO4J_USER = os.getenv(\"NEO4J_USER\")\n",
    "NEO4J_PASSWORD = os.getenv(\"NEO4J_PASSWORD\")\n",
    "\n",
    "# Connect to the Neo4j database\n",
    "driver = GraphDatabase.driver(NEO4J_URI, auth=(NEO4J_USER, NEO4J_PASSWORD))\n",
    "\n",
    "def run_query(query: str):\n",
    "    with driver.session() as session:\n",
    "        result = session.run(query)\n",
    "        return [record.data() for record in result]\n",
    "\n",
    "natural_langauge_query = \"Finns det några socialdemokrater som delar samma förnamn?\"\n",
    "result = run_query(\"\"\"\n",
    "MATCH (p:Party {partyName: \"Socialdemokraterna\"})-[:BELONGS_TO]->(person:Person)\n",
    "WITH  split(person.name, \" \")[0] AS firstName, count(person) AS nameCount\n",
    "WHERE nameCount > 1\n",
    "RETURN firstName, nameCount\n",
    "\"\"\")\n",
    "main(natural_langauge_query)\n",
    "print(natural_langauge_query)\n",
    "print(result)\n",
    "print()\n",
    "\n",
    "\n",
    "\n",
    "natural_langauge_query = \"Finns det några deltagare i debatten som delar samma förnamn?\"\n",
    "result = run_query(\"\"\"\n",
    "MATCH (p:Party)-[:BELONGS_TO]->(person:Person)\n",
    "WITH split(person.name, \" \")[0] AS firstName, count(person) AS nameCount\n",
    "WHERE nameCount > 1\n",
    "RETURN firstName, nameCount\n",
    "\"\"\")\n",
    "print(natural_langauge_query)\n",
    "print(result)\n",
    "print()\n",
    "\n",
    "\n",
    "\n",
    "natural_langauge_query = \"Vilket parti har minst antal deltagare i debatten, och vilket har flest?\"\n",
    "result = run_query(\"\"\"\n",
    "MATCH (person:Person)-[:BELONGS_TO]->(party:Party)\n",
    "WITH party.partyName AS partyName, count(person) AS participants\n",
    "ORDER BY participants ASC\n",
    "RETURN partyName, participants\n",
    "LIMIT 1\n",
    "\n",
    "UNION\n",
    "\n",
    "MATCH (person:Person)-[:BELONGS_TO]->(party:Party)\n",
    "WITH party.partyName AS partyName, count(person) AS participants\n",
    "ORDER BY participants DESC\n",
    "RETURN partyName, participants\n",
    "LIMIT 1\n",
    "\"\"\")\n",
    "print(natural_langauge_query)\n",
    "print(result)\n",
    "print()\n",
    "\n",
    "\n",
    "\n",
    "natural_langauge_query = \"Vem har flest inlägg i debatten och vilket parti tillhör personen?\"\n",
    "result = run_query(\"\"\"\n",
    "MATCH (person:Person)-[:STATED]->()\n",
    "WITH person, count(person) AS statedCount\n",
    "ORDER BY statedCount DESC\n",
    "LIMIT 1\n",
    "RETURN person.name, statedCount, person.party\n",
    "\"\"\")\n",
    "print(natural_langauge_query)\n",
    "print(result)\n",
    "print()\n",
    "\n",
    "\n",
    "natural_langauge_query = \"Vilket parti har flest kvinnor i debatten, och hur många kvinnor respektive män har de?\"\n",
    "result = run_query(\"\"\"\n",
    "MATCH (person:Person)-[:BELONGS_TO]->(party:Party)\n",
    "WHERE person.gender = 'woman'\n",
    "WITH party.partyName AS partyName, count(person) AS womenCount\n",
    "ORDER BY womenCount DESC\n",
    "LIMIT 1\n",
    "WITH partyName, womenCount\n",
    "MATCH (person:Person)-[:BELONGS_TO]->(party:Party)\n",
    "WHERE person.gender = 'man'\n",
    "WITH partyName, womenCount, count(person) AS menCount\n",
    "RETURN partyName, womenCount, menCount\n",
    "\"\"\")\n",
    "print(natural_langauge_query)\n",
    "print(result)\n",
    "print()\n",
    "\n",
    "natural_langauge_query = \"Finns det något parti som inte har några kvinnliga deltagare i debatten?\"\n",
    "result = run_query(\"\"\"\n",
    "MATCH (party:Party)\n",
    "WHERE NOT EXISTS {\n",
    "    MATCH (party)<-[:BELONGS_TO]-(person:Person)\n",
    "    WHERE person.gender = 'woman'\n",
    "}\n",
    "RETURN party.partyName\n",
    "                   \"\"\")\n",
    "print(natural_langauge_query)\n",
    "print(result)\n",
    "\n",
    "\n",
    "\n",
    "driver.close()\n"
   ]
  },
  {
   "cell_type": "markdown",
   "metadata": {},
   "source": [
    "Potentially useful for visualizing some queries:"
   ]
  },
  {
   "cell_type": "code",
   "execution_count": 22,
   "metadata": {},
   "outputs": [
    {
     "data": {
      "application/vnd.jupyter.widget-view+json": {
       "model_id": "a129711eb6784c948b5cf0a226260573",
       "version_major": 2,
       "version_minor": 0
      },
      "text/plain": [
       "GraphWidget(layout=Layout(height='500px', width='100%'))"
      ]
     },
     "metadata": {},
     "output_type": "display_data"
    }
   ],
   "source": [
    "g = Neo4jGraphWidget(driver)\n",
    "g.show_cypher(\"MATCH (p:Party {partyName: 'Centerpartiet'})-[r]-(connected) RETURN p, r, connected\")\n"
   ]
  }
 ],
 "metadata": {
  "kernelspec": {
   "display_name": ".venv",
   "language": "python",
   "name": "python3"
  },
  "language_info": {
   "codemirror_mode": {
    "name": "ipython",
    "version": 3
   },
   "file_extension": ".py",
   "mimetype": "text/x-python",
   "name": "python",
   "nbconvert_exporter": "python",
   "pygments_lexer": "ipython3",
   "version": "3.12.6"
  }
 },
 "nbformat": 4,
 "nbformat_minor": 2
}
