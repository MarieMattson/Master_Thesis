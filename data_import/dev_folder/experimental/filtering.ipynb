{
 "cells": [
  {
   "cell_type": "code",
   "execution_count": 18,
   "metadata": {},
   "outputs": [
    {
     "name": "stdout",
     "output_type": "stream",
     "text": [
      "Doc IDs: ['H909103', 'H90968', 'H90982', 'H909133', 'H90981']\n",
      "Dates: [['2022-04-27 00:00:00'], ['2022-02-17 00:00:00'], ['2022-03-16 00:00:00'], ['2022-06-17 00:00:00'], ['2022-03-15 00:00:00']]\n",
      "Counts: [160, 147, 143, 66, 101]\n"
     ]
    },
    {
     "data": {
      "text/plain": [
       "617"
      ]
     },
     "execution_count": 18,
     "metadata": {},
     "output_type": "execute_result"
    }
   ],
   "source": [
    "import json\n",
    "\n",
    "doc_ids = [\"H909103\", \"H90968\", \"H90982\", \"H909133\", \"H90981\"]\n",
    "results = []\n",
    "dates = []  # This will become a list of lists\n",
    "dataset_path = \"/mnt/c/Users/User/thesis/data_import/data_small_size/data/dataset_small.json\"\n",
    "\n",
    "# Load the dataset\n",
    "with open(dataset_path, 'r', encoding='utf-8') as f:\n",
    "    dataset = json.load(f)\n",
    "\n",
    "for doc_id in doc_ids:\n",
    "    count = sum(1 for entry in dataset if entry.get(\"dok_id\") == doc_id)\n",
    "\n",
    "    # Collect unique dates for this doc_id, preserving order\n",
    "    seen_dates = set()\n",
    "    doc_dates = []\n",
    "    for entry in dataset:\n",
    "        if entry.get(\"dok_id\") == doc_id:\n",
    "            d = entry.get(\"dok_datum\")\n",
    "            if d and d not in seen_dates:\n",
    "                seen_dates.add(d)\n",
    "                doc_dates.append(d)\n",
    "\n",
    "    dates.append(doc_dates)\n",
    "    results.append(count)\n",
    "\n",
    "print(\"Doc IDs:\", doc_ids)\n",
    "print(\"Dates:\", dates)\n",
    "print(\"Counts:\", results)\n",
    "\n",
    "sum(results)\n"
   ]
  },
  {
   "cell_type": "code",
   "execution_count": 1,
   "metadata": {},
   "outputs": [
    {
     "name": "stdout",
     "output_type": "stream",
     "text": [
      "Återrapportering från Europeiska rådets möte den 10-11 mars: 6\n",
      "Frågestund: 3\n",
      "Ämnesbetyg - betygen ska bättre spegla elevers kunskaper: 1\n",
      "Fiskeripolitik: 1\n",
      "Riksrevisionens rapport om yrkeshögskolan: 3\n",
      "Stöd till personer med funktionsnedsättning: 1\n",
      "Associationsrätt: 2\n",
      "Vissa säkerhetspolitiska frågor: 3\n",
      "Inkomstskatt: 2\n",
      "Riksrevisionens rapport om systemet med energideklarationer: 1\n",
      "Riksrevisionens rapport om att komma till Sverige som anhörig: 1\n",
      "(forts. från § 13) Stöd till personer med funktionsnedsättning (forts. SoU12): 1\n",
      "Riksrevisionens rapport om Försäkringskassans arbete med att förebygga sjukskrivning: 1\n"
     ]
    }
   ],
   "source": [
    "import json\n",
    "from collections import Counter\n",
    "\n",
    "qa_data_path = \"/mnt/c/Users/User/thesis/data_import/exp2/qa_dataset.json\"\n",
    "\n",
    "\n",
    "with open(qa_data_path, 'r', encoding='utf-8') as f:\n",
    "    data = json.load(f)\n",
    "\n",
    "# Create a Counter to count occurrences of each unique 'avsnittsrubrik'\n",
    "avsnittsrubrik_counter = Counter()\n",
    "\n",
    "# Iterate over the data and count 'avsnittsrubrik'\n",
    "for item in data:\n",
    "    if 'avsnittsrubrik' in item:\n",
    "        avsnittsrubrik_counter[item['avsnittsrubrik']] += 1\n",
    "\n",
    "# Print the count of each unique 'avsnittsrubrik'\n",
    "for avsnittsrubrik, count in avsnittsrubrik_counter.items():\n",
    "    print(f\"{avsnittsrubrik}: {count}\")\n"
   ]
  },
  {
   "cell_type": "code",
   "execution_count": 19,
   "metadata": {},
   "outputs": [
    {
     "name": "stdout",
     "output_type": "stream",
     "text": [
      "99bb7b56-4125-ed11-9178-901b0e9b71a8\n",
      "Frågestund. Pia Nilsson: <p>Fru talman! bistå Ukraina nu och framöver?</p>\n",
      "0.90543306\n",
      "99bb7b56-4125-ed11-9178-901b0e9b71a8\n",
      "Frågestund. Pia Nilsson: <p>Fru talman! bistå Ukraina nu och framöver?</p>\n",
      "0.9054330587387085\n"
     ]
    },
    {
     "data": {
      "text/plain": [
       "['99bb7b56-4125-ed11-9178-901b0e9b71a8']"
      ]
     },
     "execution_count": 19,
     "metadata": {},
     "output_type": "execute_result"
    }
   ],
   "source": [
    "\n",
    "import numpy as np\n",
    "\n",
    "last = [(np.str_('99bb7b56-4125-ed11-9178-901b0e9b71a8'), np.str_('Frågestund. Pia Nilsson: <p>Fru talman! bistå Ukraina nu och framöver?</p>'), np.float32(0.90543306))]\n",
    "\n",
    "for item in last:\n",
    "    for thing in item:\n",
    "        print(thing)\n",
    "print(last[0][0].item())\n",
    "print(last[0][1].item())\n",
    "print(last[0][2].item())\n",
    "\n",
    "result = [item[0].item() for item in last]\n",
    "result\n"
   ]
  },
  {
   "cell_type": "code",
   "execution_count": 3,
   "metadata": {},
   "outputs": [
    {
     "data": {
      "text/plain": [
       "'Yes'"
      ]
     },
     "execution_count": 3,
     "metadata": {},
     "output_type": "execute_result"
    }
   ],
   "source": [
    "#just testing parsing some output\n",
    "\n",
    "data = {'openai/gpt-4o': {'generated_text': 'Yes', 'message': [{'role': 'user', 'message': '', 'tools': None, 'tool_calls': None}, {'role': 'assistant', 'message': 'Yes', 'tools': None, 'tool_calls': []}], 'status': 'success', 'usage': {'completion_tokens': 2, 'prompt_tokens': 1104, 'total_tokens': 1106, 'completion_tokens_details': {'accepted_prediction_tokens': 0, 'audio_tokens': 0, 'reasoning_tokens': 0, 'rejected_prediction_tokens': 0}, 'prompt_tokens_details': {'audio_tokens': 0, 'cached_tokens': 0}}, 'cost': 0.0027800000000000004}}\n",
    "\n",
    "data['openai/gpt-4o']['generated_text']"
   ]
  },
  {
   "cell_type": "code",
   "execution_count": 1,
   "metadata": {},
   "outputs": [
    {
     "name": "stdout",
     "output_type": "stream",
     "text": [
      "[\n",
      "    {\n",
      "        \"dok_id\": \"H90968\",\n",
      "        \"avsnittsrubrik\": \"Frågestund\",\n",
      "        \"dok_datum\": \"2022-02-17 00:00:00\",\n",
      "        \"anforande_id\": \"3aa228e8-3dc6-ec11-9170-0090facf175a\",\n",
      "        \"anforandetext\": \"<p>Fru talman! Nu är det fokus på att få ut kris- och återstartsmedlen. Därefter är det fokus på att sätta ihop remissvaren så fort som möjligt. Efter det är den exakta formen inte klar ännu - där förväntar jag mig att återkomma snarast. Men jag ser fram emot en fortsatt dialog med Christer Nylander framöver.</p>\",\n",
      "        \"talare\": \"Jeanette Gustafsdotter\",\n",
      "        \"parti\": \"S\",\n",
      "        \"qa_pair\": {\n",
      "            \"answer\": \"Socialdemokraterna fokuserar på att få ut kris- och återstartsmedlen samt att snabbt sätta ihop remissvaren. Den exakta formen för detta arbete är ännu inte klar, men partiet förväntar sig att återkomma med mer information och ser fram emot en fortsatt dialog med Christer Nylander.\",\n",
      "            \"question\": \"Vad är Socialdemokraternas position i frågan om hanteringen av kris- och återstartsmedlen?\"\n",
      "        },\n",
      "        \"qa_type\": \"generate_qa_inference_party\",\n",
      "        \"human_annotator\": {\n",
      "            \"context\": [\n",
      "                \"26a228e8-3dc6-ec11-9170-0090facf175a\",\n",
      "                \"38a228e8-3dc6-ec11-9170-0090facf175a\",\n",
      "                \"3aa228e8-3dc6-ec11-9170-0090facf175a\"\n",
      "            ],\n",
      "            \"reasonable_question\": \"Yes\"\n",
      "        },\n",
      "        \"LLM_annotator\": {\n",
      "            \"reasonable_question\": \"\\n\\nNo\"\n",
      "        },\n",
      "        \"RAG_pipeline\": {\n",
      "            \"answer\": \"Socialdemokraternas position i frågan om hanteringen av kris- och återstartsmedlen fokuserar på att snabbt distribuera dessa medel. Efter det arbetar de med att sätta ihop remissvaren så fort som möjligt. Den exakta formen för fortsatt hantering är ännu inte klar, men de ser fram emot en fortsatt dialog om detta.\\n\\nDe betonar också vikten av att föra en nära dialog med branschen och dess företrädare, och har därför inrättat ett nytt kris- och återstartsråd. Parallellt med detta pågår remisstiden för återstartsutredningen \\\"Från kris till kraft\\\". Socialdemokraterna är öppna för att diskutera kulturens långsiktiga villkor och hur kulturpolitiken kan utformas tillsammans med riksdagspartiernas företrädare.\",\n",
      "            \"context\": [\n",
      "                \"3aa228e8-3dc6-ec11-9170-0090facf175a\",\n",
      "                \"94a228e8-3dc6-ec11-9170-0090facf175a\",\n",
      "                \"38a228e8-3dc6-ec11-9170-0090facf175a\",\n",
      "                \"8496d4d6-ccd6-ec11-9170-0090facf175a\",\n",
      "                \"a60c7667-bb23-ed11-9178-901b0e9b71a8\",\n",
      "                \"7d96d4d6-ccd6-ec11-9170-0090facf175a\"\n",
      "            ],\n",
      "            \"cypher_query\": \"MATCH (t:Talare {party: \\\"S\\\"}) \\nMATCH (t)-[:HALLER]->(a:Anforande) \\nMATCH (a)-[:HAS_CHUNK]->(c:Chunk) \\nMATCH (t)-[:DELTAR_I]->(d:Debatt)-[:DOCUMENTED_IN]->(p:Protokoll) \\nRETURN DISTINCT a.anforande_text, c.text, c.chunk_id, c.embedding, a.anforande_id\"\n",
      "        },\n",
      "        \"eval\": {\n",
      "            \"orig_answer\": \"\",\n",
      "            \"RAG_pipeline_answer\": \"\",\n",
      "            \"cosine_RAG_answer\": \"\"\n",
      "        },\n",
      "        \"cosine_RAG\": {\n",
      "            \"answer\": \"\",\n",
      "            \"context\": \"\"\n",
      "        }\n",
      "    }\n",
      "]\n"
     ]
    }
   ],
   "source": [
    "# Your original data\n",
    "data = [\n",
    "    {\n",
    "        \"dok_id\": \"H90968\",\n",
    "        \"avsnittsrubrik\": \"Frågestund\",\n",
    "        \"dok_datum\": \"2022-02-17 00:00:00\",\n",
    "        \"anforande_id\": \"3aa228e8-3dc6-ec11-9170-0090facf175a\",\n",
    "        \"anforandetext\": \"<p>Fru talman! Nu är det fokus på att få ut kris- och återstartsmedlen. Därefter är det fokus på att sätta ihop remissvaren så fort som möjligt. Efter det är den exakta formen inte klar ännu - där förväntar jag mig att återkomma snarast. Men jag ser fram emot en fortsatt dialog med Christer Nylander framöver.</p>\",\n",
    "        \"talare\": \"Jeanette Gustafsdotter\",\n",
    "        \"parti\": \"S\",\n",
    "        \"qa_pair\": {\n",
    "            \"answer\": \"Socialdemokraterna fokuserar på att få ut kris- och återstartsmedlen samt att snabbt sätta ihop remissvaren. Den exakta formen för detta arbete är ännu inte klar, men partiet förväntar sig att återkomma med mer information och ser fram emot en fortsatt dialog med Christer Nylander.\",\n",
    "            \"question\": \"Vad är Socialdemokraternas position i frågan om hanteringen av kris- och återstartsmedlen?\"\n",
    "        },\n",
    "        \"qa_type\": \"generate_qa_inference_party\",\n",
    "        \"human_annotator\": {\n",
    "            \"context\": [\n",
    "                \"26a228e8-3dc6-ec11-9170-0090facf175a\",\n",
    "                \"38a228e8-3dc6-ec11-9170-0090facf175a\",\n",
    "                \"3aa228e8-3dc6-ec11-9170-0090facf175a\"\n",
    "            ],\n",
    "            \"reasonable_question\": \"Yes\"\n",
    "        },\n",
    "        \"LLM_annotator\": {\n",
    "            \"reasonable_question\": \"\\n\\nNo\"\n",
    "        },\n",
    "        \"RAG_pipeline\": {\n",
    "            \"answer\": \"Socialdemokraternas position i frågan om hanteringen av kris- och återstartsmedlen fokuserar på att snabbt distribuera dessa medel. Efter det arbetar de med att sätta ihop remissvaren så fort som möjligt. Den exakta formen för fortsatt hantering är ännu inte klar, men de ser fram emot en fortsatt dialog om detta.\\n\\nDe betonar också vikten av att föra en nära dialog med branschen och dess företrädare, och har därför inrättat ett nytt kris- och återstartsråd. Parallellt med detta pågår remisstiden för återstartsutredningen \\\"Från kris till kraft\\\". Socialdemokraterna är öppna för att diskutera kulturens långsiktiga villkor och hur kulturpolitiken kan utformas tillsammans med riksdagspartiernas företrädare.\",\n",
    "            \"context\": [\n",
    "                \"3aa228e8-3dc6-ec11-9170-0090facf175a\",\n",
    "                \"94a228e8-3dc6-ec11-9170-0090facf175a\",\n",
    "                \"38a228e8-3dc6-ec11-9170-0090facf175a\",\n",
    "                \"8496d4d6-ccd6-ec11-9170-0090facf175a\",\n",
    "                \"a60c7667-bb23-ed11-9178-901b0e9b71a8\",\n",
    "                \"7d96d4d6-ccd6-ec11-9170-0090facf175a\"\n",
    "            ],\n",
    "            \"cypher_query\": \"MATCH (t:Talare {party: \\\"S\\\"}) \\nMATCH (t)-[:HALLER]->(a:Anforande) \\nMATCH (a)-[:HAS_CHUNK]->(c:Chunk) \\nMATCH (t)-[:DELTAR_I]->(d:Debatt)-[:DOCUMENTED_IN]->(p:Protokoll) \\nRETURN DISTINCT a.anforande_text, c.text, c.chunk_id, c.embedding, a.anforande_id\"\n",
    "        },\n",
    "        \"eval\": {\n",
    "            \"orig_answer\": \"\",\n",
    "            \"RAG_pipeline_answer\": \"\",\n",
    "            \"cosine_RAG_answer\":\"\"\n",
    "        }\n",
    "    }\n",
    "]\n",
    "\n",
    "# Update the data to include the new key \"cosine_RAG\"\n",
    "for item in data:\n",
    "    item[\"cosine_RAG\"] = {\n",
    "        \"answer\": \"\",\n",
    "        \"context\": \"\"\n",
    "    }\n",
    "\n",
    "# Optional: Print updated data to verify\n",
    "import json\n",
    "print(json.dumps(data, indent=4, ensure_ascii=False))\n"
   ]
  }
 ],
 "metadata": {
  "kernelspec": {
   "display_name": ".venv",
   "language": "python",
   "name": "python3"
  },
  "language_info": {
   "codemirror_mode": {
    "name": "ipython",
    "version": 3
   },
   "file_extension": ".py",
   "mimetype": "text/x-python",
   "name": "python",
   "nbconvert_exporter": "python",
   "pygments_lexer": "ipython3",
   "version": "3.12.6"
  }
 },
 "nbformat": 4,
 "nbformat_minor": 2
}
